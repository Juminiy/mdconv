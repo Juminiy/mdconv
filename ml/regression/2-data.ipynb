{
 "cells": [
  {
   "cell_type": "code",
   "execution_count": 59,
   "id": "7869a936",
   "metadata": {},
   "outputs": [],
   "source": [
    "def merge_dict(dst:dict|None, src:dict|None) -> dict:\n",
    "    if dst==None:\n",
    "        dst={}\n",
    "    if src==None:\n",
    "        return dst\n",
    "    for srckey,srcval in src.items():\n",
    "        dst[srckey]=srcval\n",
    "    return dst\n",
    "\n",
    "from typing import Literal\n",
    "\n",
    "def removebound(s:str,bounds:list[str],loc:Literal['prefix','suffix','p','s','l','r']) -> str:\n",
    "    for bound in bounds:\n",
    "        if loc in ['prefix','p','l']:\n",
    "            s=s.removeprefix(bound)\n",
    "        else:\n",
    "            s=s.removesuffix(bound)\n",
    "    return s"
   ]
  },
  {
   "cell_type": "code",
   "execution_count": 71,
   "id": "1faea979",
   "metadata": {},
   "outputs": [
    {
     "name": "stdout",
     "output_type": "stream",
     "text": [
      "max_price: 51.500 min_price: 10.800 \n",
      "\n"
     ]
    }
   ],
   "source": [
    "import pandas as pd\n",
    "raw_pumpkins=pd.read_csv('../../data/ml/US-pumpkins.csv')\n",
    "\n",
    "pumpkins=raw_pumpkins.copy(deep=True)\n",
    "tail5row=pumpkins.tail(5)\n",
    "colmiss=pumpkins.isnull().sum()\n",
    "dataslice=pumpkins.loc[33:55, ['Package', 'Low Price', 'High Price', \"Date\"]]\n",
    "# print(dataslice)\n",
    "\n",
    "# filter by distinct column data\n",
    "pumpkins=pumpkins[pumpkins['Package'].str.contains('bushel',case=True,regex=True)]\n",
    "\n",
    "# create new column \n",
    "avgprice=(pumpkins['Low Price']+pumpkins['High Price'])/2\n",
    "# pumpkins['Avg Price']=avgprice\n",
    "# print(pumpkins['Avg Price'])\n",
    "# extract column data\n",
    "month=pd.DatetimeIndex(pumpkins['Date']).month\n",
    "\n",
    "# create new DataFrame\n",
    "newpumpkins=pd.DataFrame(\n",
    "    merge_dict(dst={'Month':month,'Avg Price':avgprice},\n",
    "               src={key:pumpkins[key] for key in ['Low Price', 'High Price','Package']})\n",
    ")\n",
    "\n",
    "for idx,pps in newpumpkins.iterrows():\n",
    "    totprice=pps['Avg Price']\n",
    "    weights=removebound(str(pps['Package']), ['bushel baskets','bushel cartons',' bushel crates'], 'suffix')\n",
    "    newpumpkins.at[idx,'Avg Price']=totprice/(10/9) if weights in['1 1/9','1 1/9 '] \\\n",
    "                                    else totprice/(1/2) if weights=='1/2 ' \\\n",
    "                                    else totprice\n",
    "print(f\"max_price: {max(newpumpkins['Avg Price']):.3f}\", f\"min_price: {min(newpumpkins['Avg Price']):.3f}\", '\\n')"
   ]
  },
  {
   "cell_type": "code",
   "execution_count": 72,
   "id": "5e5993d8",
   "metadata": {},
   "outputs": [],
   "source": [
    "from matplotlib import pyplot as plt\n",
    "# plt.scatter(newpumpkins['Month'], newpumpkins['Avg Price'], )\n",
    "# plt.xlabel('month')\n",
    "# plt.ylabel('price')\n",
    "# plt.title('pumpkins month price')\n",
    "# plt.show()"
   ]
  },
  {
   "cell_type": "code",
   "execution_count": 73,
   "id": "a7bafe62",
   "metadata": {},
   "outputs": [
    {
     "data": {
      "text/plain": [
       "Text(0, 0.5, 'pumpkins price')"
      ]
     },
     "execution_count": 73,
     "metadata": {},
     "output_type": "execute_result"
    },
    {
     "data": {
      "image/png": "[encoded data removed]",
      "text/plain": [
       "<Figure size 640x480 with 1 Axes>"
      ]
     },
     "metadata": {},
     "output_type": "display_data"
    }
   ],
   "source": [
    "newpumpkins.groupby(['Month'])['Avg Price'].mean().plot(kind='bar')\n",
    "plt.ylabel('pumpkins price')"
   ]
  }
 ],
 "metadata": {
  "kernelspec": {
   "display_name": "mdconv",
   "language": "python",
   "name": "python3"
  },
  "language_info": {
   "codemirror_mode": {
    "name": "ipython",
    "version": 3
   },
   "file_extension": ".py",
   "mimetype": "text/x-python",
   "name": "python",
   "nbconvert_exporter": "python",
   "pygments_lexer": "ipython3",
   "version": "3.11.13"
  }
 },
 "nbformat": 4,
 "nbformat_minor": 5
}
