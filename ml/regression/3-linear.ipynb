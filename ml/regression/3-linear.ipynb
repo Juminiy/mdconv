{
 "cells": [
  {
   "cell_type": "code",
   "execution_count": 26,
   "id": "040a9d14",
   "metadata": {},
   "outputs": [],
   "source": [
    "from datetime import datetime\n",
    "def get_dayofyear(dtstr:str) -> int:\n",
    "    if type(dtstr)!=str or len(dtstr)==0:\n",
    "        return 0\n",
    "    # 9/24/16 -> 9/24/2016\n",
    "    dtrep=dtstr.split('/')\n",
    "    dtrep[2]='20'+dtrep[2]\n",
    "    ldt=datetime.strptime('/'.join(dtrep),'%m/%d/%Y')\n",
    "    return (ldt-datetime(year=int(dtrep[2]),month=1,day=1)).days\n",
    "\n",
    "# print(get_dayofyear('9/24/16'))"
   ]
  },
  {
   "cell_type": "code",
   "execution_count": 28,
   "id": "473d9b80",
   "metadata": {},
   "outputs": [
    {
     "name": "stdout",
     "output_type": "stream",
     "text": [
      "        Variety  City Name               Package  Low Price  High Price  \\\n",
      "70     PIE TYPE  BALTIMORE  1 1/9 bushel cartons      15.00        15.0   \n",
      "71     PIE TYPE  BALTIMORE  1 1/9 bushel cartons      18.00        18.0   \n",
      "72     PIE TYPE  BALTIMORE  1 1/9 bushel cartons      18.00        18.0   \n",
      "73     PIE TYPE  BALTIMORE  1 1/9 bushel cartons      17.00        17.0   \n",
      "74     PIE TYPE  BALTIMORE  1 1/9 bushel cartons      15.00        15.0   \n",
      "...         ...        ...                   ...        ...         ...   \n",
      "1738  MINIATURE  ST. LOUIS    1/2 bushel cartons      15.00        15.0   \n",
      "1739  MINIATURE  ST. LOUIS    1/2 bushel cartons      13.75        15.0   \n",
      "1740  MINIATURE  ST. LOUIS    1/2 bushel cartons      10.75        15.0   \n",
      "1741  MINIATURE  ST. LOUIS    1/2 bushel cartons      12.00        12.0   \n",
      "1742  MINIATURE  ST. LOUIS    1/2 bushel cartons      12.00        12.0   \n",
      "\n",
      "         Date   Price  Month  DayOfYear  \n",
      "70    9/24/16  15.000      9        267  \n",
      "71    9/24/16  18.000      9        267  \n",
      "72    10/1/16  18.000     10        274  \n",
      "73    10/1/16  17.000     10        274  \n",
      "74    10/8/16  15.000     10        281  \n",
      "...       ...     ...    ...        ...  \n",
      "1738  9/30/16  15.000      9        273  \n",
      "1739  9/30/16  14.375      9        273  \n",
      "1740  9/30/16  12.875      9        273  \n",
      "1741  9/30/16  12.000      9        273  \n",
      "1742  9/30/16  12.000      9        273  \n",
      "\n",
      "[415 rows x 9 columns]\n"
     ]
    },
    {
     "name": "stderr",
     "output_type": "stream",
     "text": [
      "/tmp/ipykernel_3080464/1665584272.py:19: UserWarning: Could not infer format, so each element will be parsed individually, falling back to `dateutil`. To ensure parsing is consistent and as-expected, please specify a format.\n",
      "  new_pumpkins['DayOfYear']=pd.to_datetime(new_pumpkins['Date']).apply(lambda dt: (dt-datetime(dt.year,1,1)).days)\n"
     ]
    }
   ],
   "source": [
    "# 1. linear regression \n",
    "# 2. polynomial regression\n",
    "\n",
    "import pandas as pd\n",
    "from datetime import datetime\n",
    "pumpkins=pd.read_csv('../../data/ml/US-pumpkins.csv')\n",
    "\n",
    "# column select\n",
    "new_pumpkins=pumpkins.loc[:,['Variety','City Name','Package','Low Price','High Price','Date']]\n",
    "# line filter\n",
    "new_pumpkins=new_pumpkins[new_pumpkins['Package'].str.contains('bushel',case=True,regex=True)]\n",
    "# new column added\n",
    "price=(new_pumpkins['Low Price']+new_pumpkins['High Price'])/2\n",
    "new_pumpkins.loc[new_pumpkins['Package'].str.contains('1 1/9'), 'Price'] = price/(1 + 1/9)\n",
    "new_pumpkins.loc[new_pumpkins['Package'].str.contains('1/2'), 'Price'] = price/(1/2)\n",
    "new_pumpkins['Price']=price\n",
    "new_pumpkins['Month']=pd.DatetimeIndex(new_pumpkins['Date']).month\n",
    "\n",
    "new_pumpkins['DayOfYear']=pd.to_datetime(new_pumpkins['Date']).apply(lambda dt: (dt-datetime(dt.year,1,1)).days)\n",
    "print(new_pumpkins)"
   ]
  },
  {
   "cell_type": "code",
   "execution_count": 31,
   "id": "37aa9be5",
   "metadata": {},
   "outputs": [
    {
     "name": "stdout",
     "output_type": "stream",
     "text": [
      "-0.034981459134711144\n",
      "-0.046669788989113885\n"
     ]
    }
   ],
   "source": [
    "print(new_pumpkins['Month'].corr(new_pumpkins['Price']))\n",
    "print(new_pumpkins['DayOfYear'].corr(new_pumpkins['Price']))"
   ]
  },
  {
   "cell_type": "code",
   "execution_count": null,
   "id": "47f7d3d9",
   "metadata": {},
   "outputs": [],
   "source": [
    "ax=None\n",
    "colors=['red','blue','green','yellow']\n"
   ]
  }
 ],
 "metadata": {
  "kernelspec": {
   "display_name": "mdconv",
   "language": "python",
   "name": "python3"
  },
  "language_info": {
   "codemirror_mode": {
    "name": "ipython",
    "version": 3
   },
   "file_extension": ".py",
   "mimetype": "text/x-python",
   "name": "python",
   "nbconvert_exporter": "python",
   "pygments_lexer": "ipython3",
   "version": "3.11.13"
  }
 },
 "nbformat": 4,
 "nbformat_minor": 5
}
